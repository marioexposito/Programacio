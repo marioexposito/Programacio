{
  "nbformat": 4,
  "nbformat_minor": 0,
  "metadata": {
    "colab": {
      "provenance": [],
      "authorship_tag": "ABX9TyNjy8LA9RzCJp44WGNOZeK5",
      "include_colab_link": true
    },
    "kernelspec": {
      "name": "python3",
      "display_name": "Python 3"
    },
    "language_info": {
      "name": "python"
    }
  },
  "cells": [
    {
      "cell_type": "markdown",
      "metadata": {
        "id": "view-in-github",
        "colab_type": "text"
      },
      "source": [
        "<a href=\"https://colab.research.google.com/github/marioexposito/Programacio/blob/main/Exercicis_1.ipynb\" target=\"_parent\"><img src=\"https://colab.research.google.com/assets/colab-badge.svg\" alt=\"Open In Colab\"/></a>"
      ]
    },
    {
      "cell_type": "code",
      "source": [
        "print(\"La contrasenya ha de tenir:\")\n",
        "print(\"Mínim 1 majúscula\")\n",
        "print(\"Mínim 10 caràcters\")\n",
        "print(\"Mínim 1 minúscula\")\n",
        "print(\"Mínim un caràcter especial\")\n",
        "print(\"Mínim 1 signe de puntuació\")\n",
        "print(\"Mínim 1 nombre\")\n",
        "print(\"Màxim 20 caràcters\")\n",
        "print(\"La meva contrasenya serà: 4309fdsjio.#U\")"
      ],
      "metadata": {
        "colab": {
          "base_uri": "https://localhost:8080/"
        },
        "id": "v65HJk7Yue19",
        "outputId": "db667a1c-087a-4aae-d5ae-7f504b62347e"
      },
      "execution_count": null,
      "outputs": [
        {
          "output_type": "stream",
          "name": "stdout",
          "text": [
            "La contrasenya ha de tenir:\n",
            "Mínim 1 majúscula\n",
            "Mínim 10 caràcters\n",
            "Mínim 1 minúscula\n",
            "Mínim un caràcter especial\n",
            "Mínim 1 signe de puntuació\n",
            "Mínim 1 nombre\n",
            "Màxim 20 caràcters\n",
            "La meva contrasenya serà: 4309fdsjio.#U\n"
          ]
        }
      ]
    },
    {
      "cell_type": "markdown",
      "source": [
        "Crearem una llista que es digui setmana, que tingui els dies de dilluns a divendres menys el dijous. Després posarem el dijous en el seu lloc. Afegirem el divendres 2 cops, contarem quants divendres hi ha i després eliminarem els divendres que s'obrin i després farem un text que es vegi el nombre de divendres que hi havia."
      ],
      "metadata": {
        "id": "UiSFpV43oeE6"
      }
    },
    {
      "cell_type": "code",
      "source": [
        "setmana=[\"dilluns\",\"dimarts\",\"dimecres\",\"divendres\"]\n",
        "print(setmana)\n",
        "setmana.append=[\"dissabte\",\"diumenge\"]\n",
        "print(setmana+setmana.append)\n"
      ],
      "metadata": {
        "colab": {
          "base_uri": "https://localhost:8080/",
          "height": 211
        },
        "id": "zLb2rXErLcVS",
        "outputId": "d7721fcc-adca-4e84-b1fe-df64ff0537d0"
      },
      "execution_count": null,
      "outputs": [
        {
          "output_type": "stream",
          "name": "stdout",
          "text": [
            "['dilluns', 'dimarts', 'dimecres', 'divendres']\n"
          ]
        },
        {
          "output_type": "error",
          "ename": "AttributeError",
          "evalue": "'list' object attribute 'append' is read-only",
          "traceback": [
            "\u001b[0;31m---------------------------------------------------------------------------\u001b[0m",
            "\u001b[0;31mAttributeError\u001b[0m                            Traceback (most recent call last)",
            "\u001b[0;32m<ipython-input-7-c9ad85a51437>\u001b[0m in \u001b[0;36m<cell line: 3>\u001b[0;34m()\u001b[0m\n\u001b[1;32m      1\u001b[0m \u001b[0msetmana\u001b[0m\u001b[0;34m=\u001b[0m\u001b[0;34m[\u001b[0m\u001b[0;34m\"dilluns\"\u001b[0m\u001b[0;34m,\u001b[0m\u001b[0;34m\"dimarts\"\u001b[0m\u001b[0;34m,\u001b[0m\u001b[0;34m\"dimecres\"\u001b[0m\u001b[0;34m,\u001b[0m\u001b[0;34m\"divendres\"\u001b[0m\u001b[0;34m]\u001b[0m\u001b[0;34m\u001b[0m\u001b[0;34m\u001b[0m\u001b[0m\n\u001b[1;32m      2\u001b[0m \u001b[0mprint\u001b[0m\u001b[0;34m(\u001b[0m\u001b[0msetmana\u001b[0m\u001b[0;34m)\u001b[0m\u001b[0;34m\u001b[0m\u001b[0;34m\u001b[0m\u001b[0m\n\u001b[0;32m----> 3\u001b[0;31m \u001b[0msetmana\u001b[0m\u001b[0;34m.\u001b[0m\u001b[0mappend\u001b[0m\u001b[0;34m=\u001b[0m\u001b[0;34m[\u001b[0m\u001b[0;34m\"dissabte\"\u001b[0m\u001b[0;34m,\u001b[0m\u001b[0;34m\"diumenge\"\u001b[0m\u001b[0;34m]\u001b[0m\u001b[0;34m\u001b[0m\u001b[0;34m\u001b[0m\u001b[0m\n\u001b[0m\u001b[1;32m      4\u001b[0m \u001b[0mprint\u001b[0m\u001b[0;34m(\u001b[0m\u001b[0msetmana\u001b[0m\u001b[0;34m+\u001b[0m\u001b[0msetmana\u001b[0m\u001b[0;34m.\u001b[0m\u001b[0mappend\u001b[0m\u001b[0;34m)\u001b[0m\u001b[0;34m\u001b[0m\u001b[0;34m\u001b[0m\u001b[0m\n",
            "\u001b[0;31mAttributeError\u001b[0m: 'list' object attribute 'append' is read-only"
          ]
        }
      ]
    },
    {
      "cell_type": "markdown",
      "source": [
        "Una llista que contingui: 7,5,28,12,11,0,4."
      ],
      "metadata": {
        "id": "7wyoimhVreoA"
      }
    },
    {
      "cell_type": "code",
      "source": [
        "llista_1=[7,5,28,12,11,0,4]\n",
        "print(max(llista_1))\n",
        "print(\"------------\")\n",
        "print(min(llista_1))\n",
        "print( )\n",
        "print(sum(llista_1))"
      ],
      "metadata": {
        "colab": {
          "base_uri": "https://localhost:8080/"
        },
        "id": "qziK0B4ptSFT",
        "outputId": "844cb101-8bcd-4a96-833d-af55c3201917"
      },
      "execution_count": null,
      "outputs": [
        {
          "output_type": "stream",
          "name": "stdout",
          "text": [
            "28\n",
            "------------\n",
            "0\n",
            "\n",
            "67\n"
          ]
        }
      ]
    },
    {
      "cell_type": "code",
      "source": [
        "abecedari=[\"a\",\"b\",\"c\",\"d\",\"e\",\"f\",\"g\",\"h\",\"i\",\"j\",\"k\",\"l\",\"m\",\"n\",\"o\",\"p\",\"q\",\"r\",\"s\",\"t\",\"u\",\"v\",\"w\",\"x\",\"y\",\"z\"]\n",
        "for lletres in abecedari:\n",
        "  x=lletres.upper()\n",
        "  print(x)"
      ],
      "metadata": {
        "id": "FQ6bwswiz8-u",
        "colab": {
          "base_uri": "https://localhost:8080/"
        },
        "outputId": "4b71981d-0ba0-4326-ac30-fda4d192eac6"
      },
      "execution_count": null,
      "outputs": [
        {
          "output_type": "stream",
          "name": "stdout",
          "text": [
            "A\n",
            "B\n",
            "C\n",
            "D\n",
            "E\n",
            "F\n",
            "G\n",
            "H\n",
            "I\n",
            "J\n",
            "K\n",
            "L\n",
            "M\n",
            "N\n",
            "O\n",
            "P\n",
            "Q\n",
            "R\n",
            "S\n",
            "T\n",
            "U\n",
            "V\n",
            "W\n",
            "X\n",
            "Y\n",
            "Z\n"
          ]
        }
      ]
    },
    {
      "cell_type": "code",
      "source": [
        "noms=[\"Roger\", \"Lídia\", \"Neus\", \"Marc\", \"Anna\", \"Arnau\", \"Hector\", \"Silvia\"]\n",
        "for persones in noms:\n",
        "  x=persones.lower()\n",
        "  print(\"La persona es diu\",x)"
      ],
      "metadata": {
        "colab": {
          "base_uri": "https://localhost:8080/"
        },
        "id": "U6iWh99oJh0g",
        "outputId": "17a717b3-cd88-4a8a-d496-1af2a5acc8a3"
      },
      "execution_count": null,
      "outputs": [
        {
          "output_type": "stream",
          "name": "stdout",
          "text": [
            "La persona es diu roger\n",
            "La persona es diu lídia\n",
            "La persona es diu neus\n",
            "La persona es diu marc\n",
            "La persona es diu anna\n",
            "La persona es diu arnau\n",
            "La persona es diu hector\n",
            "La persona es diu silvia\n"
          ]
        }
      ]
    }
  ]
}