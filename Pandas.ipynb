{
  "nbformat": 4,
  "nbformat_minor": 0,
  "metadata": {
    "colab": {
      "provenance": [],
      "authorship_tag": "ABX9TyN5/9jp+4iIA6l5IFgbF9sh",
      "include_colab_link": true
    },
    "kernelspec": {
      "name": "python3",
      "display_name": "Python 3"
    },
    "language_info": {
      "name": "python"
    }
  },
  "cells": [
    {
      "cell_type": "markdown",
      "metadata": {
        "id": "view-in-github",
        "colab_type": "text"
      },
      "source": [
        "<a href=\"https://colab.research.google.com/github/marioexposito/Programacio/blob/main/Pandas.ipynb\" target=\"_parent\"><img src=\"https://colab.research.google.com/assets/colab-badge.svg\" alt=\"Open In Colab\"/></a>"
      ]
    },
    {
      "cell_type": "markdown",
      "source": [
        "El pandas serveix per treballar amb dades, i tenim tres tipus de estructura.\n",
        "-Sèries: Estructures d'una dimensió que porten el seu index associat a les segones.\n",
        "-Data frames: Estructures de dues dimensions.\n",
        "-Panells: Estructures de tres dimensions."
      ],
      "metadata": {
        "id": "AHJ-g0-1NOBP"
      }
    },
    {
      "cell_type": "code",
      "execution_count": null,
      "metadata": {
        "colab": {
          "base_uri": "https://localhost:8080/"
        },
        "id": "PuI4APGnNMua",
        "outputId": "66ecadb2-5b6b-4bec-8b2d-3a01cea1fae1"
      },
      "outputs": [
        {
          "output_type": "stream",
          "name": "stdout",
          "text": [
            "Requirement already satisfied: pandas in /usr/local/lib/python3.10/dist-packages (2.2.2)\n",
            "Requirement already satisfied: numpy>=1.22.4 in /usr/local/lib/python3.10/dist-packages (from pandas) (1.26.4)\n",
            "Requirement already satisfied: python-dateutil>=2.8.2 in /usr/local/lib/python3.10/dist-packages (from pandas) (2.8.2)\n",
            "Requirement already satisfied: pytz>=2020.1 in /usr/local/lib/python3.10/dist-packages (from pandas) (2024.2)\n",
            "Requirement already satisfied: tzdata>=2022.7 in /usr/local/lib/python3.10/dist-packages (from pandas) (2024.2)\n",
            "Requirement already satisfied: six>=1.5 in /usr/local/lib/python3.10/dist-packages (from python-dateutil>=2.8.2->pandas) (1.16.0)\n"
          ]
        }
      ],
      "source": [
        "!pip install pandas"
      ]
    },
    {
      "cell_type": "code",
      "source": [
        "!apt-get install python3.12"
      ],
      "metadata": {
        "colab": {
          "base_uri": "https://localhost:8080/"
        },
        "id": "La68ujKkPCkt",
        "outputId": "78825887-c343-4f39-bf44-3ef17f14dd94"
      },
      "execution_count": null,
      "outputs": [
        {
          "output_type": "stream",
          "name": "stdout",
          "text": [
            "Reading package lists... Done\n",
            "Building dependency tree... Done\n",
            "Reading state information... Done\n",
            "python3.12 is already the newest version (3.12.7-1+jammy1).\n",
            "0 upgraded, 0 newly installed, 0 to remove and 49 not upgraded.\n"
          ]
        }
      ]
    },
    {
      "cell_type": "code",
      "source": [
        "import pandas as pd\n",
        "setmana = pd.Series([\"Dilluns\", \"Dimarts\", \"Dimecres\", \"Dijous\", \"Divendres\", \"Dissabte\", \"Diumenge\"])\n",
        "print(setmana)"
      ],
      "metadata": {
        "colab": {
          "base_uri": "https://localhost:8080/"
        },
        "id": "5Ax4agVtSBDo",
        "outputId": "45963761-d5da-4adc-9e8d-04e52a1caee4"
      },
      "execution_count": null,
      "outputs": [
        {
          "output_type": "stream",
          "name": "stdout",
          "text": [
            "0      Dilluns\n",
            "1      Dimarts\n",
            "2     Dimecres\n",
            "3       Dijous\n",
            "4    Divendres\n",
            "5     Dissabte\n",
            "6     Diumenge\n",
            "dtype: object\n"
          ]
        }
      ]
    },
    {
      "cell_type": "markdown",
      "source": [
        "12,58,63,47,81,35"
      ],
      "metadata": {
        "id": "wCyXbEXHx3ZH"
      }
    },
    {
      "cell_type": "code",
      "source": [
        "import pandas as pd\n",
        "numeros = pd.Series([12, 58, 63, 47, 81, 35])\n",
        "print(numeros)"
      ],
      "metadata": {
        "colab": {
          "base_uri": "https://localhost:8080/"
        },
        "id": "26GzP7voyyzl",
        "outputId": "bc17a9e5-d16e-4732-eb65-5db7aa2f7b5b"
      },
      "execution_count": null,
      "outputs": [
        {
          "output_type": "stream",
          "name": "stdout",
          "text": [
            "0    12\n",
            "1    58\n",
            "2    63\n",
            "3    47\n",
            "4    81\n",
            "5    35\n",
            "dtype: int64\n"
          ]
        }
      ]
    },
    {
      "cell_type": "markdown",
      "source": [
        "Mira la allargada de la sèrie size"
      ],
      "metadata": {
        "id": "5n7vxQdXx12T"
      }
    },
    {
      "cell_type": "code",
      "source": [
        "llargada=numeros.size\n",
        "print(llargada)"
      ],
      "metadata": {
        "colab": {
          "base_uri": "https://localhost:8080/"
        },
        "id": "UwGdFbEuzBZH",
        "outputId": "f6d8a367-0fd4-4ba1-e39c-1263ea5b31d0"
      },
      "execution_count": null,
      "outputs": [
        {
          "output_type": "stream",
          "name": "stdout",
          "text": [
            "6\n"
          ]
        }
      ]
    },
    {
      "cell_type": "markdown",
      "source": [
        "Suma tots el valors numèrics amb la funció sum. Cal que la suma digui \"l'import total és X\"."
      ],
      "metadata": {
        "id": "GGdZHX3xyHEy"
      }
    },
    {
      "cell_type": "code",
      "source": [
        "suma=numeros.sum()\n",
        "print(\"L'import total de la suma és\", suma,\".\")"
      ],
      "metadata": {
        "colab": {
          "base_uri": "https://localhost:8080/"
        },
        "id": "cNz5T7G8yqQW",
        "outputId": "f2fe3b5f-e4a5-45ec-c518-2cc08c682be2"
      },
      "execution_count": null,
      "outputs": [
        {
          "output_type": "stream",
          "name": "stdout",
          "text": [
            "L'import total de la suma és 296 .\n"
          ]
        }
      ]
    },
    {
      "cell_type": "code",
      "source": [
        "màxim=numeros.max()\n",
        "print(màxim)"
      ],
      "metadata": {
        "colab": {
          "base_uri": "https://localhost:8080/"
        },
        "id": "q4gccueI2MQX",
        "outputId": "fb6e0c7f-3d1a-480c-ec96-e08c471dfc00"
      },
      "execution_count": null,
      "outputs": [
        {
          "output_type": "stream",
          "name": "stdout",
          "text": [
            "81\n"
          ]
        }
      ]
    },
    {
      "cell_type": "code",
      "source": [
        "mínim=numeros.min()\n",
        "print(mínim)"
      ],
      "metadata": {
        "colab": {
          "base_uri": "https://localhost:8080/"
        },
        "id": "wGqoc9vS5N1X",
        "outputId": "833b1466-20d8-48e1-a65e-ecc6de8610a3"
      },
      "execution_count": null,
      "outputs": [
        {
          "output_type": "stream",
          "name": "stdout",
          "text": [
            "12\n"
          ]
        }
      ]
    },
    {
      "cell_type": "code",
      "source": [
        "media=numeros.mean()\n",
        "print(media)"
      ],
      "metadata": {
        "colab": {
          "base_uri": "https://localhost:8080/"
        },
        "id": "dTMYdU6e5vuO",
        "outputId": "089b51a3-a61d-4544-cd4c-8df8b05021c0"
      },
      "execution_count": null,
      "outputs": [
        {
          "output_type": "stream",
          "name": "stdout",
          "text": [
            "49.333333333333336\n"
          ]
        }
      ]
    },
    {
      "cell_type": "code",
      "source": [
        "suma=numeros.cumsum()\n",
        "print(suma)"
      ],
      "metadata": {
        "colab": {
          "base_uri": "https://localhost:8080/"
        },
        "id": "X7Mb1wmM55Th",
        "outputId": "072f4b91-de4b-40e8-d219-ebffe60839d1"
      },
      "execution_count": null,
      "outputs": [
        {
          "output_type": "stream",
          "name": "stdout",
          "text": [
            "0     12\n",
            "1     70\n",
            "2    133\n",
            "3    180\n",
            "4    261\n",
            "5    296\n",
            "dtype: int64\n"
          ]
        }
      ]
    },
    {
      "cell_type": "code",
      "source": [
        "numeros.value_counts()"
      ],
      "metadata": {
        "colab": {
          "base_uri": "https://localhost:8080/",
          "height": 272
        },
        "id": "qztebewg6Fmr",
        "outputId": "d1425910-b355-4b35-8198-2559ba4646db"
      },
      "execution_count": null,
      "outputs": [
        {
          "output_type": "execute_result",
          "data": {
            "text/plain": [
              "12    1\n",
              "58    1\n",
              "63    1\n",
              "47    1\n",
              "81    1\n",
              "35    1\n",
              "Name: count, dtype: int64"
            ],
            "text/html": [
              "<div>\n",
              "<style scoped>\n",
              "    .dataframe tbody tr th:only-of-type {\n",
              "        vertical-align: middle;\n",
              "    }\n",
              "\n",
              "    .dataframe tbody tr th {\n",
              "        vertical-align: top;\n",
              "    }\n",
              "\n",
              "    .dataframe thead th {\n",
              "        text-align: right;\n",
              "    }\n",
              "</style>\n",
              "<table border=\"1\" class=\"dataframe\">\n",
              "  <thead>\n",
              "    <tr style=\"text-align: right;\">\n",
              "      <th></th>\n",
              "      <th>count</th>\n",
              "    </tr>\n",
              "  </thead>\n",
              "  <tbody>\n",
              "    <tr>\n",
              "      <th>12</th>\n",
              "      <td>1</td>\n",
              "    </tr>\n",
              "    <tr>\n",
              "      <th>58</th>\n",
              "      <td>1</td>\n",
              "    </tr>\n",
              "    <tr>\n",
              "      <th>63</th>\n",
              "      <td>1</td>\n",
              "    </tr>\n",
              "    <tr>\n",
              "      <th>47</th>\n",
              "      <td>1</td>\n",
              "    </tr>\n",
              "    <tr>\n",
              "      <th>81</th>\n",
              "      <td>1</td>\n",
              "    </tr>\n",
              "    <tr>\n",
              "      <th>35</th>\n",
              "      <td>1</td>\n",
              "    </tr>\n",
              "  </tbody>\n",
              "</table>\n",
              "</div><br><label><b>dtype:</b> int64</label>"
            ]
          },
          "metadata": {},
          "execution_count": 4
        }
      ]
    },
    {
      "cell_type": "code",
      "source": [
        "import pandas as pd\n",
        "llistat = pd.DataFrame({\n",
        "    \"Noms\": [\"Pedro\", \"Sonia\", \"Luis\", \"Marta\", \"Julian\", \"Nerea\"],\n",
        "    \"Edat\": [25, 52, 19, 33, 48, 61],\n",
        "    \"Altura\": [1.68, 1.74, 1.81, 1.59, 1.71, 1.78]\n",
        "},\n",
        "    index = [0, 1, 2, 3, 4, 5]\n",
        ")\n",
        "\n",
        "print(llistat)"
      ],
      "metadata": {
        "colab": {
          "base_uri": "https://localhost:8080/"
        },
        "id": "UhUIWoFFOZex",
        "outputId": "8ac6f809-2de9-4099-f0d6-0b9ae4fa18d6"
      },
      "execution_count": null,
      "outputs": [
        {
          "output_type": "stream",
          "name": "stdout",
          "text": [
            "     Noms  Edat  Altura\n",
            "0   Pedro    25    1.68\n",
            "1   Sonia    52    1.74\n",
            "2    Luis    19    1.81\n",
            "3   Marta    33    1.59\n",
            "4  Julian    48    1.71\n",
            "5   Nerea    61    1.78\n"
          ]
        }
      ]
    },
    {
      "cell_type": "code",
      "source": [
        "import pandas as pd\n",
        "clase = pd.DataFrame([{\"Nom\":\"Pedro\",\"Edat\":25,\"Altura\":1.68},\n",
        "                      {\"Nom\":\"Sonia\",\"Edat\":52,\"Altura\":1.74},\n",
        "                      {\"Nom\":\"Luis\",\"Edat\":19,\"Altura\":1.81},\n",
        "                      {\"Nom\":\"Marta\",\"Edat\":33,\"Altura\":1.59},\n",
        "                      {\"Nom\":\"Julian\",\"Edat\":48,\"Altura\":1.71},\n",
        "                      {\"Nom\":\"Nerea\",\"Edat\":61,\"Altura\":1.78},\n",
        "                      ])\n",
        "print(clase)"
      ],
      "metadata": {
        "colab": {
          "base_uri": "https://localhost:8080/"
        },
        "id": "ekQblRUqTKYA",
        "outputId": "30658f85-36ec-4f68-f1a3-ca67c8c3bfde"
      },
      "execution_count": null,
      "outputs": [
        {
          "output_type": "stream",
          "name": "stdout",
          "text": [
            "      Nom  Edat  Altura\n",
            "0   Pedro    25    1.68\n",
            "1   Sonia    52    1.74\n",
            "2    Luis    19    1.81\n",
            "3   Marta    33    1.59\n",
            "4  Julian    48    1.71\n",
            "5   Nerea    61    1.78\n"
          ]
        }
      ]
    },
    {
      "cell_type": "code",
      "source": [
        "import pandas as pd\n",
        "altura = pd.Series([1.68, 1.74, 1.81, 1.59, 1.71, 1.78])\n",
        "minim=altura.min()\n",
        "print(minim)\n",
        "maxim=altura.max()\n",
        "print(maxim)\n",
        "mitjana=altura.mean()\n",
        "print(mitjana)\n",
        "x=mitjana.round(2)\n",
        "print(x)"
      ],
      "metadata": {
        "colab": {
          "base_uri": "https://localhost:8080/"
        },
        "id": "7NU7naQ6SOrz",
        "outputId": "e29f3805-e1e5-4efd-b278-9e5fab4a6b3d"
      },
      "execution_count": null,
      "outputs": [
        {
          "output_type": "stream",
          "name": "stdout",
          "text": [
            "1.59\n",
            "1.81\n",
            "1.7183333333333335\n",
            "1.72\n"
          ]
        }
      ]
    },
    {
      "cell_type": "code",
      "source": [
        "clase = pd.DataFrame([{\"Nom\":\"Pedro\",\"Edat\":25,\"Altura\":1.68},\n",
        "                      {\"Nom\":\"Sonia\",\"Edat\":52,\"Altura\":1.74},\n",
        "                      {\"Nom\":\"Luis\",\"Edat\":19,\"Altura\":1.81},\n",
        "                      {\"Nom\":\"Marta\",\"Edat\":33,\"Altura\":1.59},\n",
        "                      {\"Nom\":\"Julian\",\"Edat\":48,\"Altura\":1.71},\n",
        "                      {\"Nom\":\"Nerea\",\"Edat\":61,\"Altura\":1.78},\n",
        "                      ])\n",
        "clase[\"Institut\"]=\"MVM\"\n",
        "clase=[\"Edat 2\"]= \"Edat\"+2\n",
        "\n",
        "print(clase)"
      ],
      "metadata": {
        "colab": {
          "base_uri": "https://localhost:8080/",
          "height": 106
        },
        "id": "s_xKAIABal_W",
        "outputId": "91c57eb2-bfcf-426d-f917-197e89db7e8b"
      },
      "execution_count": null,
      "outputs": [
        {
          "output_type": "error",
          "ename": "SyntaxError",
          "evalue": "cannot assign to literal (<ipython-input-15-32ba6d9d611c>, line 9)",
          "traceback": [
            "\u001b[0;36m  File \u001b[0;32m\"<ipython-input-15-32ba6d9d611c>\"\u001b[0;36m, line \u001b[0;32m9\u001b[0m\n\u001b[0;31m    clase=[\"Edat 2\"]= \"Edat\"+2\u001b[0m\n\u001b[0m           ^\u001b[0m\n\u001b[0;31mSyntaxError\u001b[0m\u001b[0;31m:\u001b[0m cannot assign to literal\n"
          ]
        }
      ]
    }
  ]
}