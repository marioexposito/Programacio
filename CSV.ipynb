{
  "nbformat": 4,
  "nbformat_minor": 0,
  "metadata": {
    "colab": {
      "provenance": [],
      "authorship_tag": "ABX9TyM6XP0FXyzWXpoR+g6RmHds",
      "include_colab_link": true
    },
    "kernelspec": {
      "name": "python3",
      "display_name": "Python 3"
    },
    "language_info": {
      "name": "python"
    }
  },
  "cells": [
    {
      "cell_type": "markdown",
      "metadata": {
        "id": "view-in-github",
        "colab_type": "text"
      },
      "source": [
        "<a href=\"https://colab.research.google.com/github/marioexposito/Programacio/blob/main/CSV.ipynb\" target=\"_parent\"><img src=\"https://colab.research.google.com/assets/colab-badge.svg\" alt=\"Open In Colab\"/></a>"
      ]
    },
    {
      "cell_type": "code",
      "source": [
        "import pandas as pd\n",
        "df=pd.read_csv(\"/content/SCV - Full 1 (1).csv\")\n",
        "df\n",
        "Russian_Federation=df.State #Estic fent una nova variable que és diu russian_federation i del full de càlcul anterior estic mirant a la columna state\n",
        "print(len(\"Russian Federation\")) #Estic comptant amb el len les vegades que surt Russian federation"
      ],
      "metadata": {
        "id": "RciUWNydbePV",
        "colab": {
          "base_uri": "https://localhost:8080/"
        },
        "outputId": "7fc6a0a4-6bac-4ad0-a01d-8de3c50a8112"
      },
      "execution_count": 1,
      "outputs": [
        {
          "output_type": "stream",
          "name": "stdout",
          "text": [
            "18\n"
          ]
        }
      ]
    },
    {
      "cell_type": "markdown",
      "source": [
        "La variable l'has de definir primer i després pots fer càlculs."
      ],
      "metadata": {
        "id": "9pyaBbRNDtdO"
      }
    }
  ]
}