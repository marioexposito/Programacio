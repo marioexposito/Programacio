{
  "nbformat": 4,
  "nbformat_minor": 0,
  "metadata": {
    "colab": {
      "provenance": [],
      "authorship_tag": "ABX9TyOsUN+UaQeon/55MCjdilny",
      "include_colab_link": true
    },
    "kernelspec": {
      "name": "python3",
      "display_name": "Python 3"
    },
    "language_info": {
      "name": "python"
    }
  },
  "cells": [
    {
      "cell_type": "markdown",
      "metadata": {
        "id": "view-in-github",
        "colab_type": "text"
      },
      "source": [
        "<a href=\"https://colab.research.google.com/github/marioexposito/Programacio/blob/main/Proves1_ME.ipynb\" target=\"_parent\"><img src=\"https://colab.research.google.com/assets/colab-badge.svg\" alt=\"Open In Colab\"/></a>"
      ]
    },
    {
      "cell_type": "markdown",
      "source": [
        "1. Un fabricant ven 48 cuines a 93 € una. Cobra 37 euros pel transport. Quant haurà cobrat en total?"
      ],
      "metadata": {
        "id": "HM4KIULknIyL"
      }
    },
    {
      "cell_type": "code",
      "source": [
        "diners_cuines=93\n",
        "diners_transport=diners_cuines+37\n",
        "total=diners_transport*48\n",
        "print(total)"
      ],
      "metadata": {
        "colab": {
          "base_uri": "https://localhost:8080/"
        },
        "id": "DncNx2nlnS0Y",
        "outputId": "de362556-be99-47fd-e92c-1f35976569a9"
      },
      "execution_count": null,
      "outputs": [
        {
          "output_type": "stream",
          "name": "stdout",
          "text": [
            "6240\n"
          ]
        }
      ]
    },
    {
      "cell_type": "markdown",
      "source": [
        "2. En una guardiola hi ha 120 euros; en una altra hi ha 215 i en una tercera 163. Si repartim els\n",
        "euros entre 6 persones, quants en toquen a cada una?"
      ],
      "metadata": {
        "id": "uxqzH4Zzo5Pk"
      }
    },
    {
      "cell_type": "code",
      "source": [
        "guardiola_1=120\n",
        "guardiola_2=215\n",
        "guardiola_3=163\n",
        "guardioles=(guardiola_1+guardiola_2+guardiola_3)\n",
        "total=(guardioles/6)\n",
        "print(total)"
      ],
      "metadata": {
        "id": "fWFHFQJoo631",
        "colab": {
          "base_uri": "https://localhost:8080/"
        },
        "outputId": "487cd455-4307-44fc-eeaa-34f3be7d8ba9"
      },
      "execution_count": null,
      "outputs": [
        {
          "output_type": "stream",
          "name": "stdout",
          "text": [
            "83.0\n"
          ]
        }
      ]
    },
    {
      "cell_type": "markdown",
      "source": [
        "3. Una castanyera tenia 250 castanyes torrades. Si en ven 17 dotzenes i a més treu 9 castanyes\n",
        "cremades, quantes li'n queden per vendre?"
      ],
      "metadata": {
        "id": "A7arkO8lrZEb"
      }
    },
    {
      "cell_type": "code",
      "source": [
        "castanyes=250\n",
        "venudes=(castanyes-17*12)\n",
        "total=(venudes-9)\n",
        "print(total)"
      ],
      "metadata": {
        "colab": {
          "base_uri": "https://localhost:8080/"
        },
        "id": "Yr-FASFurdOz",
        "outputId": "f6cfa121-9378-4091-fb02-8f6a11ca4639"
      },
      "execution_count": null,
      "outputs": [
        {
          "output_type": "stream",
          "name": "stdout",
          "text": [
            "37\n"
          ]
        }
      ]
    },
    {
      "cell_type": "code",
      "source": [
        "print(\"Hola_món\")"
      ],
      "metadata": {
        "colab": {
          "base_uri": "https://localhost:8080/"
        },
        "id": "GI33eoG8HoUI",
        "outputId": "600e5e83-0f42-4536-afe6-744a47a63a3a"
      },
      "execution_count": null,
      "outputs": [
        {
          "output_type": "stream",
          "name": "stdout",
          "text": [
            "Hola món\n"
          ]
        }
      ]
    },
    {
      "cell_type": "code",
      "source": [
        "x=\"Hola món\"\n",
        "print(x)"
      ],
      "metadata": {
        "colab": {
          "base_uri": "https://localhost:8080/"
        },
        "id": "5G8bnltGIJPi",
        "outputId": "09e1c0a1-76a5-41c5-a727-f48d36730e37"
      },
      "execution_count": null,
      "outputs": [
        {
          "output_type": "stream",
          "name": "stdout",
          "text": [
            "Hola món\n"
          ]
        }
      ]
    },
    {
      "cell_type": "markdown",
      "source": [
        "Escriu un programa que pregunti el nom de l'usuari, i després quan l'usuari introduexi en nom a la resposta s'ens a d'imprimir una resposta que ens digui \"hola\" i la resposta de el que havíem fet."
      ],
      "metadata": {
        "id": "62aXVVZOI3YP"
      }
    },
    {
      "cell_type": "code",
      "source": [
        "usuari=input(\"com et dius?\")\n",
        "print(usuari)\n",
        "print(\"Benvingut \"+usuari+\"!\")\n"
      ],
      "metadata": {
        "colab": {
          "base_uri": "https://localhost:8080/"
        },
        "id": "_OzAlIGqI9mR",
        "outputId": "88c214a8-2424-41c4-f278-04ddad778a4d"
      },
      "execution_count": null,
      "outputs": [
        {
          "output_type": "stream",
          "name": "stdout",
          "text": [
            "com et dius?Didac\n",
            "Didac\n",
            "Benvingut Didac!\n"
          ]
        }
      ]
    },
    {
      "cell_type": "markdown",
      "source": [
        "Una botiga de joguines"
      ],
      "metadata": {
        "id": "I6mdSFKGMcKH"
      }
    },
    {
      "cell_type": "code",
      "source": [
        "nines=75\n",
        "pallassos=112\n",
        "input1=int(input(\"nº de pallassos venuts\"))\n",
        "input2=int(input(\"nº de nines venudes?\"))\n",
        "pes=input2*75+input1*112\n",
        "print(\"El pes del paquet es de\", pes)\n"
      ],
      "metadata": {
        "colab": {
          "base_uri": "https://localhost:8080/"
        },
        "id": "C2O3I9YtMzrD",
        "outputId": "b4ae1ee4-21f2-48f4-b43b-189ec7a9a47c"
      },
      "execution_count": null,
      "outputs": [
        {
          "output_type": "stream",
          "name": "stdout",
          "text": [
            "nº de pallassos venuts5\n",
            "nº de nines venudes?4\n",
            "El pes del paquet es de 860\n"
          ]
        }
      ]
    },
    {
      "cell_type": "markdown",
      "source": [
        "Fer un programa que pregunti a un usuari les hores que treballa i el preu per hora."
      ],
      "metadata": {
        "id": "A26gZcNKN8Lq"
      }
    },
    {
      "cell_type": "code",
      "source": [],
      "metadata": {
        "id": "gGUNU7YUrfkW"
      },
      "execution_count": null,
      "outputs": []
    },
    {
      "cell_type": "markdown",
      "source": [
        "pregunta a la variable mitjançant el type quin tipus de funció és? un cop li he prguntat si la resposta és un número sencer cal que el programa us digui \"escriu el nombre no sencer/decimal sino caldra que imprimeixi el valor de nines\""
      ],
      "metadata": {
        "id": "n5z47pXKrngd"
      }
    },
    {
      "cell_type": "code",
      "source": [
        "llibres = float(input(\"Quants llibres compres?\"))\n",
        "punts_de_llibre = float(input(\"Quants punts de llibre compres?\"))\n",
        "portallibres = float(input(\"Quants portallibres compres?\"))\n",
        "preu = ((llibres*5) + (punts_de_llibre*1.5) + (portallibres*10))\n",
        "if (preu%2==0):\n",
        "  print(\"Cal que el valor sigui float\")\n",
        "else:\n",
        "  print(\"El preu final serà\", preu)"
      ],
      "metadata": {
        "id": "V3vvF5QTtIVj",
        "colab": {
          "base_uri": "https://localhost:8080/"
        },
        "outputId": "e9de168a-83ee-42b9-8b6a-7a1917cb60d1"
      },
      "execution_count": null,
      "outputs": [
        {
          "output_type": "stream",
          "name": "stdout",
          "text": [
            "Quants llibres compres?7\n",
            "Quants punts de llibre compres?11\n",
            "Quants portallibres compres?13\n",
            "El preu final serà 181.5\n"
          ]
        }
      ]
    },
    {
      "cell_type": "markdown",
      "source": [
        "Calcula la superficie d'un cuadrat coneixent un dels seus costats."
      ],
      "metadata": {
        "id": "8vqaJ3Fgpf7A"
      }
    },
    {
      "cell_type": "code",
      "source": [
        "costat=int(input(\"Quant mesura un costat?\"))\n",
        "superfície=costat*costat\n",
        "print(\"La superfície és\",superfície, \"m^2\")"
      ],
      "metadata": {
        "colab": {
          "base_uri": "https://localhost:8080/"
        },
        "id": "177TA_IjqerJ",
        "outputId": "9428dca8-1820-488c-99ea-904a93b75e83"
      },
      "execution_count": null,
      "outputs": [
        {
          "output_type": "stream",
          "name": "stdout",
          "text": [
            "Quant mesura un costat?5\n",
            "La superfície és 25 m^2\n"
          ]
        }
      ]
    },
    {
      "cell_type": "markdown",
      "source": [
        "Realitzar la suma del perimetre d'un cuadrat."
      ],
      "metadata": {
        "id": "LtIqJXGvptZ9"
      }
    },
    {
      "cell_type": "code",
      "source": [
        "costat=int(input(\"Quant mesura un costat?\"))\n",
        "perímetre=costat*4\n",
        "print(\"El perímetre és\", perímetre,\"m\")"
      ],
      "metadata": {
        "colab": {
          "base_uri": "https://localhost:8080/"
        },
        "id": "cpqrWnLvrNyM",
        "outputId": "cc2f6d8d-c5f0-4325-d310-3b08b4b63f5d"
      },
      "execution_count": null,
      "outputs": [
        {
          "output_type": "stream",
          "name": "stdout",
          "text": [
            "Quant mesura un costat?5\n",
            "El perímetre és 20 m\n"
          ]
        }
      ]
    },
    {
      "cell_type": "markdown",
      "source": [
        "Inventa 4 variables i fes la suma. El producte dels dos primers i el producte dels dos segons i fem la suma."
      ],
      "metadata": {
        "id": "tfEOK5-xp43g"
      }
    },
    {
      "cell_type": "code",
      "source": [
        "Barcelona=21\n",
        "Madrid=18\n",
        "Villareal=17\n",
        "Atlètic=16\n",
        "suma1=Barcelona + Madrid + Villareal + Atlètic\n",
        "suma2=(Barcelona*Madrid) + (Villareal*Atlètic)\n",
        "print(\"La primera suma és\", suma1)\n",
        "print(\"La segona suma és\", suma2)"
      ],
      "metadata": {
        "colab": {
          "base_uri": "https://localhost:8080/"
        },
        "id": "-FCI9C7Vrloi",
        "outputId": "503134f1-9245-40dd-b939-2f659d696ee2"
      },
      "execution_count": null,
      "outputs": [
        {
          "output_type": "stream",
          "name": "stdout",
          "text": [
            "La primera suma és 72\n",
            "La segona suma és 650\n"
          ]
        }
      ]
    },
    {
      "cell_type": "markdown",
      "source": [
        "Fes una mitjana entre 4 variables"
      ],
      "metadata": {
        "id": "IsyeuWeZReG7"
      }
    },
    {
      "cell_type": "code",
      "source": [
        "A=int(input(\"Valor de A?\"))\n",
        "B=int(input(\"Valor de B?\"))\n",
        "C=int(input(\"Valor de C?\"))\n",
        "D=int(input(\"Valor de D?\"))\n",
        "suma=A+B+C+D\n",
        "mitjana=int(suma/4)\n",
        "print(\"La mitjana és\",mitjana)"
      ],
      "metadata": {
        "colab": {
          "base_uri": "https://localhost:8080/"
        },
        "id": "SJJyggYuSTPf",
        "outputId": "f0b91e1e-00aa-4130-bcad-85dbb5262991"
      },
      "execution_count": null,
      "outputs": [
        {
          "output_type": "stream",
          "name": "stdout",
          "text": [
            "Valor de A?4\n",
            "Valor de B?7\n",
            "Valor de C?3\n",
            "Valor de D?9\n",
            "La mitjana és 5\n"
          ]
        }
      ]
    },
    {
      "cell_type": "code",
      "source": [
        "numeros6=range(16,44,5)\n",
        "list(numeros6)"
      ],
      "metadata": {
        "id": "6l7_No4ySF30",
        "outputId": "af350014-7123-4ff7-a37f-a5e537427c2a",
        "colab": {
          "base_uri": "https://localhost:8080/"
        }
      },
      "execution_count": null,
      "outputs": [
        {
          "output_type": "execute_result",
          "data": {
            "text/plain": [
              "[16, 21, 26, 31, 36, 41]"
            ]
          },
          "metadata": {},
          "execution_count": 1
        }
      ]
    }
  ]
}