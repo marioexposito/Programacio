{
  "nbformat": 4,
  "nbformat_minor": 0,
  "metadata": {
    "colab": {
      "provenance": []
    },
    "kernelspec": {
      "name": "python3",
      "display_name": "Python 3"
    },
    "language_info": {
      "name": "python"
    }
  },
  "cells": [
    {
      "cell_type": "markdown",
      "source": [
        "ex 1. El sou d'una persona, i si printa que cobra més de 2000 euros, que surti que has de pagar el 15% de IRPF"
      ],
      "metadata": {
        "id": "bjl9rio3T2XU"
      }
    },
    {
      "cell_type": "code",
      "source": [
        "sou = int(input(\"Quin és el teu sou? \"))\n",
        "\n",
        "if sou > 2000:\n",
        "    print(\"Has de pagar el 15% d'IRPF.\")"
      ],
      "metadata": {
        "colab": {
          "base_uri": "https://localhost:8080/"
        },
        "id": "hM8rK01MVY5A",
        "outputId": "814fd09f-1a26-4578-cf41-ae98361a6472"
      },
      "execution_count": 1,
      "outputs": [
        {
          "output_type": "stream",
          "name": "stdout",
          "text": [
            "Quin és le teu sou? 2005\n",
            "Has de pagar el 15% d'IRPF\n"
          ]
        }
      ]
    },
    {
      "cell_type": "markdown",
      "source": [
        "ex 2. Heu de posar dues variables amb valors diferents i, cal que surti a la pantalla el que és superior.\n"
      ],
      "metadata": {
        "id": "9h9PGVhFTjio"
      }
    },
    {
      "cell_type": "code",
      "source": [
        "var1 = int(input(\"Posa la variable 1: \"))\n",
        "var2 = int(input(\"Posa la variable 2: \"))\n",
        "\n",
        "print(\"Les variables posades són:\", var1,\" i \",var2)\n",
        "\n",
        "if var1>var2:\n",
        "    print(\"El número més gran és: \",var1)\n",
        "else:\n",
        "    print(\"El número més és: \",var2)"
      ],
      "metadata": {
        "colab": {
          "base_uri": "https://localhost:8080/"
        },
        "id": "ex0JgMBJVtb3",
        "outputId": "fb81042f-59ee-4768-a90c-4c8acb8cb3e5"
      },
      "execution_count": 6,
      "outputs": [
        {
          "output_type": "stream",
          "name": "stdout",
          "text": [
            "Posa la variable 1: 3\n",
            "Posa la variable 2: 4\n",
            "Les variables posades són: 3  i  4\n",
            "El número més és:  4\n"
          ]
        }
      ]
    },
    {
      "cell_type": "markdown",
      "source": [
        "ex 3. Imagineu-vos que teniu una nòmina de 2950€. Cal que feu ue pagui a l'estat un 20% d'impostos. Un cop hàgiu fet això, cal que pagueu les factures del gas (70€) i de l'aigua (55€). A banda d'això, cal pagar el pis, 1000€. Quants diners li quedaran a aquesta persona per sobreviure?\n",
        "Si el resultat de l'import és inferior a 1000€ cal que printeu \"Compte per si et ve un imprevist!\" Si és superior a 1000€ cal que printi \"Tens sort!\""
      ],
      "metadata": {
        "id": "SBZWGrlgUdnn"
      }
    },
    {
      "cell_type": "code",
      "source": [
        "nomina=2950\n",
        "preu_final=2950*0.8\n",
        "print(\"Tens\",preu_final, \"€\")\n",
        "preu_final2=preu_final-(70+55)\n",
        "print(\"Tens\",preu_final2, \"€\")\n",
        "if preu_final2<1000:\n",
        "  print(\"Compte per si et ve un imprevist!\")\n",
        "elif preu_final2==1000:\n",
        "  (\"Just!\")\n",
        "else:\n",
        "  print(\"Tens sort!\")\n"
      ],
      "metadata": {
        "colab": {
          "base_uri": "https://localhost:8080/"
        },
        "id": "2cpJ_RyiXHy6",
        "outputId": "f8b3b54e-30c3-49d1-c04f-20623b23ea30"
      },
      "execution_count": 15,
      "outputs": [
        {
          "output_type": "stream",
          "name": "stdout",
          "text": [
            "Tens 2360.0 €\n",
            "Tens 2235.0 €\n",
            "Tens sort!\n"
          ]
        }
      ]
    }
  ]
}