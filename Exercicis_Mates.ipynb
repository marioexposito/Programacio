{
  "nbformat": 4,
  "nbformat_minor": 0,
  "metadata": {
    "colab": {
      "provenance": [],
      "authorship_tag": "ABX9TyOYiOF97hwT/+swaVHSXWac",
      "include_colab_link": true
    },
    "kernelspec": {
      "name": "python3",
      "display_name": "Python 3"
    },
    "language_info": {
      "name": "python"
    }
  },
  "cells": [
    {
      "cell_type": "markdown",
      "metadata": {
        "id": "view-in-github",
        "colab_type": "text"
      },
      "source": [
        "<a href=\"https://colab.research.google.com/github/marioexposito/Programacio/blob/main/Exercicis_Mates.ipynb\" target=\"_parent\"><img src=\"https://colab.research.google.com/assets/colab-badge.svg\" alt=\"Open In Colab\"/></a>"
      ]
    },
    {
      "cell_type": "markdown",
      "source": [
        "Fes una mitjana entre 4 variables"
      ],
      "metadata": {
        "id": "IsyeuWeZReG7"
      }
    },
    {
      "cell_type": "code",
      "source": [
        "A=int(input(\"Valor de A?\"))\n",
        "B=int(input(\"Valor de B?\"))\n",
        "C=int(input(\"Valor de C?\"))\n",
        "D=int(input(\"Valor de D?\"))\n",
        "suma=A+B+C+D\n",
        "mitjana=int(suma/4)\n",
        "print(\"La mitjana és\",mitjana)"
      ],
      "metadata": {
        "colab": {
          "base_uri": "https://localhost:8080/"
        },
        "id": "SJJyggYuSTPf",
        "outputId": "f0b91e1e-00aa-4130-bcad-85dbb5262991"
      },
      "execution_count": null,
      "outputs": [
        {
          "output_type": "stream",
          "name": "stdout",
          "text": [
            "Valor de A?4\n",
            "Valor de B?7\n",
            "Valor de C?3\n",
            "Valor de D?9\n",
            "La mitjana és 5\n"
          ]
        }
      ]
    },
    {
      "cell_type": "markdown",
      "source": [
        "Fes una variable que pregunti el sou d'una persona i si el seu sou és superior als 2000€ cal que es mostri un missatge a la pantalla que digui que ha de pagar un 15% de IRPF."
      ],
      "metadata": {
        "id": "Ept3krZgTX4T"
      }
    },
    {
      "cell_type": "code",
      "execution_count": null,
      "metadata": {
        "colab": {
          "base_uri": "https://localhost:8080/"
        },
        "id": "GfG9WiuDR1cD",
        "outputId": "03781b03-2892-403a-a4c6-21d44c5038d4"
      },
      "outputs": [
        {
          "output_type": "stream",
          "name": "stdout",
          "text": [
            "Quant guanyes?2800\n",
            "Has de pagar un 15% de IRPF\n"
          ]
        }
      ],
      "source": [
        "Sou=int(input(\"Quant guanyes?\"))\n",
        "if (Sou>2000):\n",
        "  print(\"Has de pagar un 15% de IRPF\")"
      ]
    },
    {
      "cell_type": "markdown",
      "source": [
        "He de posar 2 variables amb valors diferents i cal que surti a la pantalla el que és superior."
      ],
      "metadata": {
        "id": "SXLW3inLTlu5"
      }
    },
    {
      "cell_type": "code",
      "source": [
        "import random\n",
        "A=random.randint(1,99)\n",
        "B=random.randint(1,99)\n",
        "\n",
        "if (A>B):\n",
        "  print(\"la variable superior és A\")\n",
        "else:\n",
        "  print(\"La variable superior és B\")"
      ],
      "metadata": {
        "colab": {
          "base_uri": "https://localhost:8080/"
        },
        "id": "uHjU9fRzT6aF",
        "outputId": "99c282bc-0f2a-415f-9e1b-1307de8a681c"
      },
      "execution_count": null,
      "outputs": [
        {
          "output_type": "stream",
          "name": "stdout",
          "text": [
            "la variable superior és A\n"
          ]
        }
      ]
    },
    {
      "cell_type": "markdown",
      "source": [
        "Imagina que teniu una nòmina de 2950€ cal que feu que pagui a l'estat un 20% de impostos, un cop hagi fet això cal que pagui les factures del gas(70€) i de l'aigua(55€), després d'això cal pagar el pis (1000€). Quants diners li sobren?\n",
        "Si el resultat de l'import és inferior a 1000€ cal que printeu compte."
      ],
      "metadata": {
        "id": "ane80m3sT68z"
      }
    },
    {
      "cell_type": "code",
      "source": [
        "diners=2950\n",
        "impost=diners*20/100\n",
        "diners_2=diners-1000-70-55\n",
        "\n",
        "if (diners_total<1000):\n",
        "  print(\"Queden\", diners_total,\"€,compte\")\n",
        "else:\n",
        "  print(\"No t'amoïnis, tens\", diners_total,\"€\")"
      ],
      "metadata": {
        "id": "jhVVXyR6UpiE",
        "colab": {
          "base_uri": "https://localhost:8080/"
        },
        "outputId": "d2f014e4-52e5-4e46-f993-206e2b2db99a"
      },
      "execution_count": null,
      "outputs": [
        {
          "output_type": "stream",
          "name": "stdout",
          "text": [
            "Queden 365.0 €,compte\n"
          ]
        }
      ]
    },
    {
      "cell_type": "markdown",
      "source": [
        "Demana a un alumne que et doni tres notes sobre 10, calcula la mitjana de les 3 notes, que digui que el promitg sigui més gran de 7 o igual, supera la matèria, si està entre 4 i 7 \"miau\" i més petit de 4 \"papeado\"."
      ],
      "metadata": {
        "id": "unPmI0-Musxq"
      }
    },
    {
      "cell_type": "code",
      "source": [
        "Primer_examen=int(input(\"Nota del primer examen?\"))\n",
        "Segon_examen=int(input(\"Nota del segon examen?\"))\n",
        "Tercer_examen=int(input(\"Nota del tercer examen?\"))\n",
        "Suma=Primer_examen+Segon_examen+Tercer_examen\n",
        "Mitjana=int(Suma/3)\n",
        "print(\"La mitjana és de\", Mitjana)\n",
        "if (Mitjana>7):\n",
        "  print(\"Tamo bien\")\n",
        "if (7>Mitjana>4):\n",
        "  print(\"Miau\")\n",
        "else:\n",
        "  print(\"Papeado\")"
      ],
      "metadata": {
        "id": "UaMmn5p7vqNy",
        "colab": {
          "base_uri": "https://localhost:8080/"
        },
        "outputId": "5c51edd7-8526-414e-ee88-4c376515af4d"
      },
      "execution_count": null,
      "outputs": [
        {
          "output_type": "stream",
          "name": "stdout",
          "text": [
            "Nota del primer examen?5\n",
            "Nota del segon examen?3\n",
            "Nota del tercer examen?2\n",
            "La mitjana és de 3\n",
            "Papeado\n"
          ]
        }
      ]
    },
    {
      "cell_type": "markdown",
      "source": [
        "Demana 3 numeros i ens ha de mostrar el superior en pantalla."
      ],
      "metadata": {
        "id": "eDIqafb2vL_Z"
      }
    },
    {
      "cell_type": "code",
      "source": [
        "import random\n",
        "A=random.randint(1,99)\n",
        "B=random.randint(1,99)\n",
        "C=random.randint(1,99)\n",
        "\n",
        "if (A>B>C):\n",
        "  print(\"la variable superior és A\")\n",
        "elif (A<B<C):\n",
        "  print(\"La variable superior és B\")\n",
        "else:\n",
        "  print(\"La variable superior és C\")"
      ],
      "metadata": {
        "colab": {
          "base_uri": "https://localhost:8080/"
        },
        "id": "9o1aMp6bz5pz",
        "outputId": "610df16a-c344-4781-fce2-c6dea7168d61"
      },
      "execution_count": null,
      "outputs": [
        {
          "output_type": "stream",
          "name": "stdout",
          "text": [
            "La variable superior és C\n"
          ]
        }
      ]
    },
    {
      "cell_type": "markdown",
      "source": [
        "Demana un valor que digui si es positiu o negatiu."
      ],
      "metadata": {
        "id": "-g0LxS1tvfrV"
      }
    },
    {
      "cell_type": "code",
      "source": [
        "import random\n",
        "Z=random.randint(-99,99)\n",
        "if Z<0:\n",
        "  print(\"Z és negatiu\")\n",
        "elif Z>0:\n",
        "  print(\"Z és positiu\")\n",
        "else:\n",
        "  print(\"Z és neutre\")"
      ],
      "metadata": {
        "colab": {
          "base_uri": "https://localhost:8080/"
        },
        "id": "jcvUt8HQz_OJ",
        "outputId": "8bc62418-c57b-4f0f-e01d-5b6aa7057f79"
      },
      "execution_count": null,
      "outputs": [
        {
          "output_type": "stream",
          "name": "stdout",
          "text": [
            "Z és negatiu\n"
          ]
        }
      ]
    }
  ]
}